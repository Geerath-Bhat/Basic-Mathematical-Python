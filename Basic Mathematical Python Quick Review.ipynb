{
 "cells": [
  {
   "cell_type": "markdown",
   "id": "cbee7bc7",
   "metadata": {},
   "source": [
    "Take a few series that all give π (consult Wikipedia or Mathworld for them) and write codes\n",
    "for them. For each series you pick, check how many terms are needed to converge to math.pi.\n",
    "Compare different series, since they converge at different rates towards π"
   ]
  },
  {
   "cell_type": "code",
   "execution_count": 1,
   "id": "9d78c76b",
   "metadata": {},
   "outputs": [
    {
     "name": "stdout",
     "output_type": "stream",
     "text": [
      "10 terms: 0.0997530347\n",
      "110 terms: 0.0090907213\n",
      "210 terms: 0.0047618778\n",
      "310 terms: 0.0032257981\n",
      "410 terms: 0.0024390208\n",
      "510 terms: 0.0019607824\n",
      "610 terms: 0.0016393432\n",
      "710 terms: 0.0014084500\n",
      "810 terms: 0.0012345674\n",
      "910 terms: 0.0010989008\n"
     ]
    }
   ],
   "source": [
    "import math\n",
    "# π/4 = 1 - 1/3 + 1/5 - 1/7 + 1/9 - ...\n",
    "def leibniz_pi(n):\n",
    "    pi = 0\n",
    "    sign = 1\n",
    "    \n",
    "    for i in range(n):\n",
    "        pi += sign / (2 * i + 1)\n",
    "        sign = -sign\n",
    "    \n",
    "    return 4 * pi\n",
    "\n",
    "# Compare the number of terms needed to converge to math.pi\n",
    "for n in range(10, 1001, 100):\n",
    "    print(f\"{n} terms: {abs(leibniz_pi(n) - math.pi):.10f}\")"
   ]
  },
  {
   "cell_type": "code",
   "execution_count": 2,
   "id": "1eef7dd0",
   "metadata": {},
   "outputs": [
    {
     "name": "stdout",
     "output_type": "stream",
     "text": [
      "2 terms: 0.0082593203\n",
      "4 terms: 0.0019101139\n",
      "6 terms: 0.0007113127\n",
      "8 terms: 0.0003378300\n",
      "10 terms: 0.0001859351\n",
      "12 terms: 0.0001129646\n",
      "14 terms: 0.0000736680\n",
      "16 terms: 0.0000506676\n",
      "18 terms: 0.0000363233\n",
      "20 terms: 0.0000269189\n",
      "22 terms: 0.0000204991\n",
      "24 terms: 0.0000159682\n",
      "26 terms: 0.0000126796\n",
      "28 terms: 0.0000102353\n"
     ]
    }
   ],
   "source": [
    "# π = 3 + 4/(2*3*4) - 4/(4*5*6) + 4/(6*7*8) - 4/(8*9*10) + ...\n",
    "def nilakantha_pi(n):\n",
    "    pi = 3\n",
    "    sign = 1\n",
    "    denominator = 2\n",
    "    \n",
    "    for i in range(n):\n",
    "        pi += sign * 4 / (denominator * (denominator + 1) * (denominator + 2))\n",
    "        sign = -sign\n",
    "        denominator += 2\n",
    "    \n",
    "    return pi\n",
    "\n",
    "# Compare the number of terms needed to converge to math.pi\n",
    "for n in range(2, 30, 2):\n",
    "    print(f\"{n} terms: {abs(nilakantha_pi(n) - math.pi):.10f}\")\n"
   ]
  },
  {
   "cell_type": "markdown",
   "id": "5deacef8",
   "metadata": {},
   "source": [
    "Disceretization"
   ]
  },
  {
   "cell_type": "code",
   "execution_count": 3,
   "id": "54699e53",
   "metadata": {},
   "outputs": [
    {
     "data": {
      "text/plain": [
       "[4.0, 4.6, 5.2, 5.8, 6.4, 7.0, 7.6, 8.2, 8.8, 9.399999999999999]"
      ]
     },
     "execution_count": 3,
     "metadata": {},
     "output_type": "execute_result"
    }
   ],
   "source": [
    "def disceretization(xmin, xmax, n):\n",
    "    new = []\n",
    "    dx = (xmax - xmin)/n\n",
    "    for i in range(n):\n",
    "        x = xmin + (i*dx)\n",
    "        new.append(x)\n",
    "    return new\n",
    "disceretization(4, 10, 10)"
   ]
  },
  {
   "cell_type": "code",
   "execution_count": 4,
   "id": "560a618e",
   "metadata": {},
   "outputs": [
    {
     "name": "stdout",
     "output_type": "stream",
     "text": [
      "[(1.0, 0.0), (0.9510565162951535, 0.3090169943749474), (0.8090169943749475, 0.5877852522924731), (0.5877852522924731, 0.8090169943749475), (0.30901699437494745, 0.9510565162951535), (6.123233995736766e-17, 1.0), (-0.30901699437494734, 0.9510565162951536), (-0.587785252292473, 0.8090169943749475), (-0.8090169943749473, 0.5877852522924732), (-0.9510565162951535, 0.3090169943749475), (-1.0, 1.2246467991473532e-16), (-0.9510565162951536, -0.3090169943749473), (-0.8090169943749475, -0.587785252292473), (-0.5877852522924732, -0.8090169943749473), (-0.30901699437494756, -0.9510565162951535), (-1.8369701987210297e-16, -1.0), (0.30901699437494723, -0.9510565162951536), (0.5877852522924729, -0.8090169943749476), (0.8090169943749473, -0.5877852522924734), (0.9510565162951535, -0.3090169943749477)]\n"
     ]
    }
   ],
   "source": [
    "# circle discretization\n",
    "import math\n",
    "x0 = 0     # x-coordinate of the center (it can be -2 then adding in while loop makes sense)\n",
    "y0 = 0     # y-coordinate of the center (it can be -2 then adding in while loop makes sense)\n",
    "r = 1      # Radius of the circle\n",
    "N = 20     # Number of equally-spaced points on the circle\n",
    "delta_theta = 2*math.pi/(N)   # Calculate the angular spacing between the points\n",
    "points = []\n",
    "for i in range(N):\n",
    "    theta = i*delta_theta\n",
    "    x = x0 + r*math.cos(theta)\n",
    "    y = y0 + r*math.sin(theta)\n",
    "    points.append((x,y))\n",
    "print(points)"
   ]
  },
  {
   "cell_type": "code",
   "execution_count": 5,
   "id": "4e186e75",
   "metadata": {},
   "outputs": [
    {
     "name": "stdout",
     "output_type": "stream",
     "text": [
      "[(0.0, 0.0), (0.1, 0.2), (0.2, 0.4), (0.30000000000000004, 0.6000000000000001), (0.4, 0.8), (0.5, 1.0), (0.6000000000000001, 1.2000000000000002), (0.7000000000000001, 1.4000000000000001), (0.8, 1.6), (0.9, 1.8)]\n"
     ]
    }
   ],
   "source": [
    "# 2-d space discretization\n",
    "x1 = 0     # x-coordinate of the starting point\n",
    "y1 = 0     # y-coordinate of the starting point\n",
    "x2 = 1     # x-coordinate of the ending point\n",
    "y2 = 2     # y-coordinate of the ending point\n",
    "N = 10     # Number of equally-spaced points on the line, including both endpoints\n",
    "delta_x = (x2-x1)/(N)   # Calculate the x-coordinate spacing between the points\n",
    "delta_y = (y2-y1)/(N)   # Calculate the y-coordinate spacing between the points\n",
    "points = []\n",
    "for i in range(N):\n",
    "    x = x1 + i*delta_x\n",
    "    y = y1 + i*delta_y\n",
    "    points.append((x,y))\n",
    "print(points)"
   ]
  },
  {
   "cell_type": "markdown",
   "id": "88ad2141",
   "metadata": {},
   "source": [
    "Adding 2 numbers that are actually strings"
   ]
  },
  {
   "cell_type": "code",
   "execution_count": 6,
   "id": "0efc7fce",
   "metadata": {},
   "outputs": [
    {
     "name": "stdout",
     "output_type": "stream",
     "text": [
      "1345\n"
     ]
    }
   ],
   "source": [
    "# adding 2 numbers that are actually strings\n",
    "a = '1234'\n",
    "b = '111'\n",
    "a1 = a[::-1]\n",
    "b1 = b[::-1]\n",
    "sum1 = 0\n",
    "sum2 = 0\n",
    "for i in range(len(a1)):\n",
    "    sum1 += int(a1[i])*(10**i)\n",
    "for i in range(len(b1)):\n",
    "    sum2 += int(b1[i])*(10**i)\n",
    "tot = sum1 + sum2\n",
    "print(tot)\n",
    "tot_new = str(tot)"
   ]
  },
  {
   "cell_type": "markdown",
   "id": "cec6bf19",
   "metadata": {},
   "source": [
    "Factorial"
   ]
  },
  {
   "cell_type": "code",
   "execution_count": 7,
   "id": "634af6df",
   "metadata": {},
   "outputs": [
    {
     "name": "stdout",
     "output_type": "stream",
     "text": [
      "Input N>=2: 5\n",
      "[1, 1, 2, 6, 24, 120]\n"
     ]
    }
   ],
   "source": [
    "fac=[1, 1] \n",
    "N = int(input(\"Input N>=2: \"))\n",
    "for j in range(2,N+1):\n",
    "    fac.append( fac[-1]*j )\n",
    "    # fac[-1] extracts the last element of the current array\n",
    "print(fac)"
   ]
  },
  {
   "cell_type": "markdown",
   "id": "bb7e57ff",
   "metadata": {},
   "source": [
    "Fibbonacci"
   ]
  },
  {
   "cell_type": "code",
   "execution_count": 8,
   "id": "71bbe479",
   "metadata": {},
   "outputs": [
    {
     "name": "stdout",
     "output_type": "stream",
     "text": [
      "How many Fibonacci numbers do you want? 10\n",
      "[1, 1, 2, 3, 5, 8, 13, 21, 34, 55]\n"
     ]
    }
   ],
   "source": [
    "fib=[1,1]\n",
    "N = int(input(\"How many Fibonacci numbers do you want? \"))\n",
    "for j in range(N-2): # since we already have first two numbers\n",
    "    fib.append( fib[-1] + fib[-2] )\n",
    "print(fib)"
   ]
  },
  {
   "cell_type": "markdown",
   "id": "c4e6cbd6",
   "metadata": {},
   "source": [
    "Simpon's 1/3 and Trapezoidal Rule"
   ]
  },
  {
   "cell_type": "code",
   "execution_count": 9,
   "id": "6a881e8b",
   "metadata": {},
   "outputs": [
    {
     "name": "stdout",
     "output_type": "stream",
     "text": [
      "    10   1.647646e-02   1.095173e-04\n",
      "   100   1.644961e-04   1.082450e-08\n",
      "  1000   1.644934e-06   1.081801e-12\n",
      " 10000   1.644934e-08   3.774758e-15\n"
     ]
    }
   ],
   "source": [
    "# Q1: Numerical integration\n",
    "def trapz( fn, a, b, N):\n",
    "    # Note that the first argument is a function name.\n",
    "    h = (b-a)/N\n",
    "    xarr = [ a + h*j for j in range(N+1) ] # N+1 so that b is in the array\n",
    "    yarr = [ fn(x) for x in xarr ]\n",
    "    s = yarr[0] + yarr[-1]\n",
    "    for j in range(1,len(xarr)-1):\n",
    "        s += 2* yarr[j]\n",
    "    s *= 0.5*h\n",
    "    return s\n",
    "\n",
    "def simpson( fn, a, b, N):\n",
    "    h = (b-a)/N\n",
    "    xarr = [ a + h*j for j in range(N+1) ] # N+1 so that b is in the array\n",
    "    yarr = [ fn(x) for x in xarr ]\n",
    "    s, s2, s4 = yarr[0] + yarr[-1], 0., 0.\n",
    "    for j in range(1,len(xarr)-1,2):\n",
    "        s4 += yarr[j]\n",
    "    for j in range(2,len(xarr)-2,2):\n",
    "        s2 += yarr[j]\n",
    "    s += 2*s2 + 4*s4\n",
    "    s *= h/3\n",
    "    return s\n",
    "\n",
    "import math\n",
    "a, b = 0., math.pi\n",
    "for N in (10,100, 1000, 10000):\n",
    "    int_trap=trapz(math.sin, a, b, N)\n",
    "    int_simp=simpson(math.sin, a, b, N)\n",
    "    print(\"{:6d}{:15.6e}{:15.6e}\".format(N, abs(int_trap-2.),abs(int_simp-2.)) )"
   ]
  },
  {
   "cell_type": "markdown",
   "id": "b508e1f5",
   "metadata": {},
   "source": [
    "Addition of 2 polynomial of different length"
   ]
  },
  {
   "cell_type": "code",
   "execution_count": 10,
   "id": "8193d5d3",
   "metadata": {},
   "outputs": [
    {
     "data": {
      "text/plain": [
       "[5, 7, 9, 4, 5, 6]"
      ]
     },
     "execution_count": 10,
     "metadata": {},
     "output_type": "execute_result"
    }
   ],
   "source": [
    "# add poly\n",
    "def addpoly_comphr(P,Q):# using list comprehenssion\n",
    "    if len(P)<len(Q):\n",
    "        P,Q = Q,P\n",
    "    new = [ P[i]+Q[i] for i in range(len(Q)) ] + P[len(Q):]\n",
    "    return new\n",
    "addpoly_comphr([1,2,3,4,5,6],[4,5,6])    "
   ]
  },
  {
   "cell_type": "markdown",
   "id": "d3a8b0f0",
   "metadata": {},
   "source": [
    "Returning words and count of them in a list"
   ]
  },
  {
   "cell_type": "code",
   "execution_count": 11,
   "id": "aa8f9868",
   "metadata": {},
   "outputs": [
    {
     "name": "stdout",
     "output_type": "stream",
     "text": [
      "[('yes', 2), ('no', 1), ('please', 1), ('keep', 2)]\n"
     ]
    }
   ],
   "source": [
    "words = ['yes','no','Yes','please','keep','KEep']\n",
    "a = [i.lower() for i in words]\n",
    "sentence_dictionary = {}\n",
    "for item in a:\n",
    "    if item in sentence_dictionary:\n",
    "        sentence_dictionary[item] += 1\n",
    "\n",
    "    else:\n",
    "        sentence_dictionary[item] = 1\n",
    "resultList = list(sentence_dictionary.items())\n",
    "print(resultList)"
   ]
  },
  {
   "cell_type": "markdown",
   "id": "683fa168",
   "metadata": {},
   "source": [
    "collatz sequence = always converges to 1"
   ]
  },
  {
   "cell_type": "code",
   "execution_count": 19,
   "id": "81a26cba",
   "metadata": {},
   "outputs": [
    {
     "name": "stdout",
     "output_type": "stream",
     "text": [
      "Enter any positive number: 5\n",
      "16\n",
      "8\n",
      "4\n",
      "2\n",
      "1\n"
     ]
    }
   ],
   "source": [
    "a0=int(input(\"Enter any positive number: \"))\n",
    "while a0!=1:\n",
    "    if a0%2==0:# rule 1 for even number\n",
    "        a0=a0//2\n",
    "    else:\n",
    "        a0=3*(a0)+1 # rule 2 for odd number\n",
    "    print(a0)"
   ]
  },
  {
   "cell_type": "markdown",
   "id": "fa02b94b",
   "metadata": {},
   "source": [
    "2-d matrix making"
   ]
  },
  {
   "cell_type": "code",
   "execution_count": 17,
   "id": "2c7cc84b",
   "metadata": {},
   "outputs": [
    {
     "name": "stdout",
     "output_type": "stream",
     "text": [
      "[[403, 958, 571, 679, 82], [718, 148, 376, 130, 602], [394, 279, 378, 998, 996], [379, 432, 940, 482, 886], [60, 637, 156, 974, 501]]\n"
     ]
    }
   ],
   "source": [
    "import random as rd\n",
    "mat = [ [ rd.randint(1,1000) for i in range(0,5)] for j in range(0,5) ]\n",
    "print(mat)"
   ]
  },
  {
   "cell_type": "code",
   "execution_count": 20,
   "id": "6dfd8e82",
   "metadata": {},
   "outputs": [
    {
     "data": {
      "text/plain": [
       "[[1, 0, 0, 0, 0],\n",
       " [0, 1, 0, 0, 0],\n",
       " [0, 0, 1, 0, 0],\n",
       " [0, 0, 0, 1, 0],\n",
       " [0, 0, 0, 0, 1]]"
      ]
     },
     "execution_count": 20,
     "metadata": {},
     "output_type": "execute_result"
    }
   ],
   "source": [
    "def new(N): # producing symmetric matrices of size N*N\n",
    "    matrix = [[ 0 for j in range(0,N)] for i in range(0,N)]\n",
    "    for i in range(len(matrix)):\n",
    "        for j in range(len(matrix)):\n",
    "            if i==j:\n",
    "                matrix[i][j] = 1\n",
    "    return matrix\n",
    "new(5)"
   ]
  },
  {
   "cell_type": "code",
   "execution_count": 25,
   "id": "9f550814",
   "metadata": {},
   "outputs": [
    {
     "name": "stdout",
     "output_type": "stream",
     "text": [
      "[[1, 0, 0, 0, 0], [0, 1, 0, 0, 0], [0, 0, 1, 0, 0], [0, 0, 0, 1, 0], [0, 0, 0, 0, 1]]\n"
     ]
    }
   ],
   "source": [
    "matrix = [[1 if i==j else 0 for j in range(0,5)] for i in range(0,5)] # using list comprehension\n",
    "print(matrix)"
   ]
  },
  {
   "cell_type": "markdown",
   "id": "b71c24fc",
   "metadata": {},
   "source": [
    "Linear Least Squares"
   ]
  },
  {
   "cell_type": "code",
   "execution_count": 28,
   "id": "4dbec447",
   "metadata": {},
   "outputs": [],
   "source": [
    "def minimization(a,b,x,y,sigma):\n",
    "    sums = 0\n",
    "    for i in range(len(x)-1):\n",
    "        sums += ((y[i]-(a*x[i])-b)**2)/(sigma[i])**2\n",
    "    rmse = sums/len(x)\n",
    "    return rmse\n",
    "\n",
    "def parameters(xarr,yarr,sigma):\n",
    "    Sx, Sy, Sxx, Sxy, S = 0, 0, 0, 0, 0\n",
    "    for i in range(len(x)):\n",
    "        Sx += (1/len(xarr))*((x[i])/sigma[i]**2)\n",
    "        Sy += (1/len(xarr))*((y[i])/sigma[i]**2)\n",
    "        Sxx += (1/len(xarr))*(((x[i])**2)/sigma[i]**2)\n",
    "        Sxy += (1/len(xarr))*((x[i]*y[i])/sigma[i]**2)\n",
    "        S += (1/len(xarr))*(1/sigma[i]**2)\n",
    "    delta = (S*Sxx)-((Sx)**2)\n",
    "    a = ((S*Sxy)-(Sx*Sy))/delta\n",
    "    b = ((Sxx*Sy)-(Sx*Sxy))/delta\n",
    "    return a,b\n",
    "\n",
    "def R_square(rmse,y):\n",
    "    denom = (sum(y)-(sum(y)/len(y)))/len(y)\n",
    "    num = rmse**2\n",
    "    r_sq = 1-(num/denom)\n",
    "    return r_sq"
   ]
  },
  {
   "cell_type": "code",
   "execution_count": 31,
   "id": "59e66a4b",
   "metadata": {},
   "outputs": [
    {
     "name": "stdout",
     "output_type": "stream",
     "text": [
      "Parameter a: 9.85714285714285 and Parameter b: 0.6666666666666715\n"
     ]
    }
   ],
   "source": [
    "x = [1.0,2.0,3.0,4.0,5.0,6.0]\n",
    "y = [11.0,20.0,30.0,40.0,50.0,60.0]\n",
    "sigma = [1.0,1.0,1.0,1.0,1.0,1.0]\n",
    "a,b = parameters(x,y,sigma)\n",
    "rmse = minimization(a,b,x,y,sigma)\n",
    "print(f'Parameter a: {a} and Parameter b: {b}')"
   ]
  },
  {
   "cell_type": "code",
   "execution_count": 33,
   "id": "46080379",
   "metadata": {},
   "outputs": [
    {
     "name": "stdout",
     "output_type": "stream",
     "text": [
      "r_square value is: 0.9998165685406323\n"
     ]
    }
   ],
   "source": [
    "r = R_square(rmse,y)\n",
    "print(f'r_square value is: {r}')"
   ]
  },
  {
   "cell_type": "code",
   "execution_count": null,
   "id": "184c3e4a",
   "metadata": {},
   "outputs": [],
   "source": []
  }
 ],
 "metadata": {
  "kernelspec": {
   "display_name": "Python 3 (ipykernel)",
   "language": "python",
   "name": "python3"
  },
  "language_info": {
   "codemirror_mode": {
    "name": "ipython",
    "version": 3
   },
   "file_extension": ".py",
   "mimetype": "text/x-python",
   "name": "python",
   "nbconvert_exporter": "python",
   "pygments_lexer": "ipython3",
   "version": "3.10.10"
  }
 },
 "nbformat": 4,
 "nbformat_minor": 5
}
